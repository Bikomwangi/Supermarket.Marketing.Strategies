{
  "nbformat": 4,
  "nbformat_minor": 0,
  "metadata": {
    "colab": {
      "name": "Part.4.Anomaly.Detection",
      "provenance": [],
      "include_colab_link": true
    },
    "kernelspec": {
      "name": "ir",
      "display_name": "R"
    }
  },
  "cells": [
    {
      "cell_type": "markdown",
      "metadata": {
        "id": "view-in-github",
        "colab_type": "text"
      },
      "source": [
        "<a href=\"https://colab.research.google.com/github/Bikomwangi/Supermarket.Marketing.Strategies/blob/main/Part_4_Anomaly_Detection.ipynb\" target=\"_parent\"><img src=\"https://colab.research.google.com/assets/colab-badge.svg\" alt=\"Open In Colab\"/></a>"
      ]
    },
    {
      "cell_type": "markdown",
      "metadata": {
        "id": "lTVaoz1fnuMa"
      },
      "source": [
        "# Problem Statement"
      ]
    },
    {
      "cell_type": "markdown",
      "metadata": {
        "id": "JnVfSJhFn_AC"
      },
      "source": [
        "Check whether there are any anomalies in the given sales dataset. The objective of this task being fraud detection"
      ]
    },
    {
      "cell_type": "code",
      "metadata": {
        "id": "xzG2-CKEptki"
      },
      "source": [
        "# loading libraries\n",
        "library(tidyverse)\n",
        "library(anomalize)\n",
        "\n",
        "library(Amelia)"
      ],
      "execution_count": null,
      "outputs": []
    },
    {
      "cell_type": "code",
      "metadata": {
        "id": "XzsZfnbyzRNl"
      },
      "source": [
        "# loading the data set\n",
        "url <- 'http://bit.ly/CarreFourSalesDataset'\n",
        "data <- read.csv(url)"
      ],
      "execution_count": 2,
      "outputs": []
    },
    {
      "cell_type": "code",
      "metadata": {
        "id": "ZUVSB-720pCA",
        "outputId": "0eb930dc-4244-41a1-beb9-759924338437",
        "colab": {
          "base_uri": "https://localhost:8080/",
          "height": 35
        }
      },
      "source": [
        "dim(data)"
      ],
      "execution_count": 3,
      "outputs": [
        {
          "output_type": "display_data",
          "data": {
            "text/plain": [
              "[1] 1000    2"
            ],
            "text/latex": "\\begin{enumerate*}\n\\item 1000\n\\item 2\n\\end{enumerate*}\n",
            "text/markdown": "1. 1000\n2. 2\n\n\n",
            "text/html": [
              "<style>\n",
              ".list-inline {list-style: none; margin:0; padding: 0}\n",
              ".list-inline>li {display: inline-block}\n",
              ".list-inline>li:not(:last-child)::after {content: \"\\00b7\"; padding: 0 .5ex}\n",
              "</style>\n",
              "<ol class=list-inline><li>1000</li><li>2</li></ol>\n"
            ]
          },
          "metadata": {
            "tags": []
          }
        }
      ]
    },
    {
      "cell_type": "code",
      "metadata": {
        "id": "E9f6Dmv41IdM",
        "outputId": "c32a35ca-bf5e-47ef-f789-3f560c063423",
        "colab": {
          "base_uri": "https://localhost:8080/",
          "height": 202
        }
      },
      "source": [
        "head(data)"
      ],
      "execution_count": 4,
      "outputs": [
        {
          "output_type": "display_data",
          "data": {
            "text/plain": [
              "  Date      Sales   \n",
              "1 1/5/2019  548.9715\n",
              "2 3/8/2019   80.2200\n",
              "3 3/3/2019  340.5255\n",
              "4 1/27/2019 489.0480\n",
              "5 2/8/2019  634.3785\n",
              "6 3/25/2019 627.6165"
            ],
            "text/latex": "A data.frame: 6 × 2\n\\begin{tabular}{r|ll}\n  & Date & Sales\\\\\n  & <chr> & <dbl>\\\\\n\\hline\n\t1 & 1/5/2019  & 548.9715\\\\\n\t2 & 3/8/2019  &  80.2200\\\\\n\t3 & 3/3/2019  & 340.5255\\\\\n\t4 & 1/27/2019 & 489.0480\\\\\n\t5 & 2/8/2019  & 634.3785\\\\\n\t6 & 3/25/2019 & 627.6165\\\\\n\\end{tabular}\n",
            "text/markdown": "\nA data.frame: 6 × 2\n\n| <!--/--> | Date &lt;chr&gt; | Sales &lt;dbl&gt; |\n|---|---|---|\n| 1 | 1/5/2019  | 548.9715 |\n| 2 | 3/8/2019  |  80.2200 |\n| 3 | 3/3/2019  | 340.5255 |\n| 4 | 1/27/2019 | 489.0480 |\n| 5 | 2/8/2019  | 634.3785 |\n| 6 | 3/25/2019 | 627.6165 |\n\n",
            "text/html": [
              "<table>\n",
              "<caption>A data.frame: 6 × 2</caption>\n",
              "<thead>\n",
              "\t<tr><th></th><th scope=col>Date</th><th scope=col>Sales</th></tr>\n",
              "\t<tr><th></th><th scope=col>&lt;chr&gt;</th><th scope=col>&lt;dbl&gt;</th></tr>\n",
              "</thead>\n",
              "<tbody>\n",
              "\t<tr><th scope=row>1</th><td>1/5/2019 </td><td>548.9715</td></tr>\n",
              "\t<tr><th scope=row>2</th><td>3/8/2019 </td><td> 80.2200</td></tr>\n",
              "\t<tr><th scope=row>3</th><td>3/3/2019 </td><td>340.5255</td></tr>\n",
              "\t<tr><th scope=row>4</th><td>1/27/2019</td><td>489.0480</td></tr>\n",
              "\t<tr><th scope=row>5</th><td>2/8/2019 </td><td>634.3785</td></tr>\n",
              "\t<tr><th scope=row>6</th><td>3/25/2019</td><td>627.6165</td></tr>\n",
              "</tbody>\n",
              "</table>\n"
            ]
          },
          "metadata": {
            "tags": []
          }
        }
      ]
    },
    {
      "cell_type": "code",
      "metadata": {
        "id": "3yg_OY0U4nHa",
        "outputId": "f66e417d-5c09-48f6-eac2-c109d93d7887",
        "colab": {
          "base_uri": "https://localhost:8080/"
        }
      },
      "source": [
        "# data types\n",
        "str(data)"
      ],
      "execution_count": 5,
      "outputs": [
        {
          "output_type": "stream",
          "text": [
            "'data.frame':\t1000 obs. of  2 variables:\n",
            " $ Date : chr  \"1/5/2019\" \"3/8/2019\" \"3/3/2019\" \"1/27/2019\" ...\n",
            " $ Sales: num  549 80.2 340.5 489 634.4 ...\n"
          ],
          "name": "stdout"
        }
      ]
    },
    {
      "cell_type": "code",
      "metadata": {
        "id": "vBh5Tbo442OY",
        "outputId": "784ba5df-0a5b-4353-a8fa-646725c7c01a",
        "colab": {
          "base_uri": "https://localhost:8080/",
          "height": 35
        }
      },
      "source": [
        "# checking for missing values\n",
        "colSums(sapply(data, is.na))"
      ],
      "execution_count": 6,
      "outputs": [
        {
          "output_type": "display_data",
          "data": {
            "text/plain": [
              " Date Sales \n",
              "    0     0 "
            ],
            "text/latex": "\\begin{description*}\n\\item[Date] 0\n\\item[Sales] 0\n\\end{description*}\n",
            "text/markdown": "Date\n:   0Sales\n:   0\n\n",
            "text/html": [
              "<style>\n",
              ".dl-inline {width: auto; margin:0; padding: 0}\n",
              ".dl-inline>dt, .dl-inline>dd {float: none; width: auto; display: inline-block}\n",
              ".dl-inline>dt::after {content: \":\\0020\"; padding-right: .5ex}\n",
              ".dl-inline>dt:not(:first-of-type) {padding-left: .5ex}\n",
              "</style><dl class=dl-inline><dt>Date</dt><dd>0</dd><dt>Sales</dt><dd>0</dd></dl>\n"
            ]
          },
          "metadata": {
            "tags": []
          }
        }
      ]
    },
    {
      "cell_type": "code",
      "metadata": {
        "id": "kIBIdHMgozVH",
        "outputId": "afefdcdc-65f3-4167-c293-2651d70015d5",
        "colab": {
          "base_uri": "https://localhost:8080/",
          "height": 95
        }
      },
      "source": [
        "# duplicates\n",
        "duplicated_rows <- data[duplicated(data),]  \n",
        "duplicated_rows "
      ],
      "execution_count": 7,
      "outputs": [
        {
          "output_type": "display_data",
          "data": {
            "text/plain": [
              "     Date Sales"
            ],
            "text/latex": "A data.frame: 0 × 2\n\\begin{tabular}{ll}\n Date & Sales\\\\\n <chr> & <dbl>\\\\\n\\hline\n\\end{tabular}\n",
            "text/markdown": "\nA data.frame: 0 × 2\n\n| Date &lt;chr&gt; | Sales &lt;dbl&gt; |\n|---|---|\n\n",
            "text/html": [
              "<table>\n",
              "<caption>A data.frame: 0 × 2</caption>\n",
              "<thead>\n",
              "\t<tr><th scope=col>Date</th><th scope=col>Sales</th></tr>\n",
              "\t<tr><th scope=col>&lt;chr&gt;</th><th scope=col>&lt;dbl&gt;</th></tr>\n",
              "</thead>\n",
              "<tbody>\n",
              "</tbody>\n",
              "</table>\n"
            ]
          },
          "metadata": {
            "tags": []
          }
        }
      ]
    },
    {
      "cell_type": "markdown",
      "metadata": {
        "id": "vVkexyrmpN98"
      },
      "source": [
        "No duplicates"
      ]
    },
    {
      "cell_type": "code",
      "metadata": {
        "id": "ntmapEGf5YqT",
        "outputId": "cf2520f0-b427-4d75-af1f-f41f26aafdb9",
        "colab": {
          "base_uri": "https://localhost:8080/",
          "height": 437
        }
      },
      "source": [
        "# Outliers in Sales\n",
        "boxplot(data[,c(2)])"
      ],
      "execution_count": 8,
      "outputs": [
        {
          "output_type": "display_data",
          "data": {
            "image/png": "[encoded data removed]",
            "text/plain": [
              "plot without title"
            ]
          },
          "metadata": {
            "tags": [],
            "image/png": {
              "width": 420,
              "height": 420
            }
          }
        }
      ]
    },
    {
      "cell_type": "code",
      "metadata": {
        "id": "czeX2VAb9tBo"
      },
      "source": [
        "# converting to datetime\n",
        "data$Date <- as.POSIXct(data$Date, \"%m-%d-%Y\",tz = \"GMT\")"
      ],
      "execution_count": 9,
      "outputs": []
    },
    {
      "cell_type": "markdown",
      "metadata": {
        "id": "CkdNSFun5wlw"
      },
      "source": [
        "# EDA"
      ]
    },
    {
      "cell_type": "code",
      "metadata": {
        "id": "Cfu4qH9m5ydZ",
        "outputId": "cf709bc2-3136-4601-d0c3-5f25df993b41",
        "colab": {
          "base_uri": "https://localhost:8080/",
          "height": 437
        }
      },
      "source": [
        "# Distribution of Sales\n",
        "hist(data$Sales,\n",
        "        xlab = \"Sales\",\n",
        "        ylab = \"Frequency\")"
      ],
      "execution_count": 10,
      "outputs": [
        {
          "output_type": "display_data",
          "data": {
            "image/png": "[encoded data removed]",
            "text/plain": [
              "Plot with title “Histogram of data$Sales”"
            ]
          },
          "metadata": {
            "tags": [],
            "image/png": {
              "width": 420,
              "height": 420
            }
          }
        }
      ]
    },
    {
      "cell_type": "code",
      "metadata": {
        "id": "04V1ZchD7W2j"
      },
      "source": [
        "# extracting the day and month from date \n",
        "data$day <- format(data$Date, \"%d\")\n",
        "data$month <- format(data$Date, \"%m\")\n",
        "data$day <- as.numeric(data$day)"
      ],
      "execution_count": 16,
      "outputs": []
    },
    {
      "cell_type": "code",
      "metadata": {
        "id": "7BEq9Lj05yms",
        "outputId": "85c87b50-f535-453a-9fca-1b7112c8e10d",
        "colab": {
          "base_uri": "https://localhost:8080/",
          "height": 116
        }
      },
      "source": [
        "# checking for corr. between day and sales\n",
        "correlations <- cor(data[,2:3], method = \"pearson\")\n",
        "correlations "
      ],
      "execution_count": 12,
      "outputs": [
        {
          "output_type": "display_data",
          "data": {
            "text/plain": [
              "      Sales day\n",
              "Sales  1    NA \n",
              "day   NA     1 "
            ],
            "text/latex": "A matrix: 2 × 2 of type dbl\n\\begin{tabular}{r|ll}\n  & Sales & day\\\\\n\\hline\n\tSales &  1 & NA\\\\\n\tday & NA &  1\\\\\n\\end{tabular}\n",
            "text/markdown": "\nA matrix: 2 × 2 of type dbl\n\n| <!--/--> | Sales | day |\n|---|---|---|\n| Sales |  1 | NA |\n| day | NA |  1 |\n\n",
            "text/html": [
              "<table>\n",
              "<caption>A matrix: 2 × 2 of type dbl</caption>\n",
              "<thead>\n",
              "\t<tr><th></th><th scope=col>Sales</th><th scope=col>day</th></tr>\n",
              "</thead>\n",
              "<tbody>\n",
              "\t<tr><th scope=row>Sales</th><td> 1</td><td>NA</td></tr>\n",
              "\t<tr><th scope=row>day</th><td>NA</td><td> 1</td></tr>\n",
              "</tbody>\n",
              "</table>\n"
            ]
          },
          "metadata": {
            "tags": []
          }
        }
      ]
    },
    {
      "cell_type": "markdown",
      "metadata": {
        "id": "s3-GSbrPpWgL"
      },
      "source": [
        "No correlation between day and sales"
      ]
    },
    {
      "cell_type": "markdown",
      "metadata": {
        "id": "t1FA1qm1p6Ea"
      },
      "source": [
        "# Checking for Anomalies"
      ]
    },
    {
      "cell_type": "code",
      "metadata": {
        "id": "PAgfKNipyk-Z"
      },
      "source": [
        "# converting overall data to tibble\n",
        "data_tibble <- as_tibble(data)\n",
        "# Detecting Anomalies in overall sales\n",
        "data_tibble %>%\n",
        "    time_decompose(Sales) %>%\n",
        "    anomalize(remainder) %>%\n",
        "    time_recompose() %>%\n",
        "    plot_anomalies(time_recomposed = TRUE, ncol = 3, alpha_dots = 0.5)"
      ],
      "execution_count": null,
      "outputs": []
    },
    {
      "cell_type": "markdown",
      "metadata": {
        "id": "4wNEjHpnALzp"
      },
      "source": [
        "Insights;\n",
        "- The analysis above reveals that there are no anomalies in the sales data. Anomalies would have been highlighted by red dots."
      ]
    }
  ]
}