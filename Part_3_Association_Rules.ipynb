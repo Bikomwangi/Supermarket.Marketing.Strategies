{
  "nbformat": 4,
  "nbformat_minor": 0,
  "metadata": {
    "colab": {
      "name": "Part.3.Association.Rules",
      "provenance": [],
      "include_colab_link": true
    },
    "kernelspec": {
      "name": "ir",
      "display_name": "R"
    }
  },
  "cells": [
    {
      "cell_type": "markdown",
      "metadata": {
        "id": "view-in-github",
        "colab_type": "text"
      },
      "source": [
        "<a href=\"https://colab.research.google.com/github/Bikomwangi/Supermarket.Marketing.Strategies/blob/main/Part_3_Association_Rules.ipynb\" target=\"_parent\"><img src=\"https://colab.research.google.com/assets/colab-badge.svg\" alt=\"Open In Colab\"/></a>"
      ]
    },
    {
      "cell_type": "markdown",
      "metadata": {
        "id": "7pb0r6YHYD7q"
      },
      "source": [
        ""
      ]
    },
    {
      "cell_type": "code",
      "metadata": {
        "id": "xzG2-CKEptki"
      },
      "source": [
        "# loading the required libraries\n",
        "#install.packages(\"arules\")\n",
        "library(arules)\n",
        "library(arulesViz)\n",
        "library(rattle)"
      ],
      "execution_count": 10,
      "outputs": []
    },
    {
      "cell_type": "code",
      "metadata": {
        "id": "XrNs0pvnJ23B",
        "outputId": "fc6b6269-dda8-4b3c-a74e-559ca35a43c0",
        "colab": {
          "base_uri": "https://localhost:8080/"
        }
      },
      "source": [
        "# loading the dataset\n",
        "path <-  \"http://bit.ly/SupermarketDatasetII\"\n",
        "data <- read.transactions(path)\n"
      ],
      "execution_count": 11,
      "outputs": [
        {
          "output_type": "stream",
          "text": [
            "Warning message in asMethod(object):\n",
            "“removing duplicated items in transactions”\n"
          ],
          "name": "stderr"
        }
      ]
    },
    {
      "cell_type": "code",
      "metadata": {
        "id": "MBTL3e5QKhOT",
        "outputId": "4d3f4299-c08c-4724-a2f5-582f7eecde74",
        "colab": {
          "base_uri": "https://localhost:8080/",
          "height": 35
        }
      },
      "source": [
        "# previewing the shape\n",
        "dim(data)"
      ],
      "execution_count": 33,
      "outputs": [
        {
          "output_type": "display_data",
          "data": {
            "text/plain": [
              "[1] 7501 5729"
            ],
            "text/latex": "\\begin{enumerate*}\n\\item 7501\n\\item 5729\n\\end{enumerate*}\n",
            "text/markdown": "1. 7501\n2. 5729\n\n\n",
            "text/html": [
              "<style>\n",
              ".list-inline {list-style: none; margin:0; padding: 0}\n",
              ".list-inline>li {display: inline-block}\n",
              ".list-inline>li:not(:last-child)::after {content: \"\\00b7\"; padding: 0 .5ex}\n",
              "</style>\n",
              "<ol class=list-inline><li>7501</li><li>5729</li></ol>\n"
            ]
          },
          "metadata": {
            "tags": []
          }
        }
      ]
    },
    {
      "cell_type": "code",
      "metadata": {
        "id": "yQxH4XL6KzEk",
        "outputId": "1125d68c-811c-41a2-c614-82d1ca64e08f",
        "colab": {
          "base_uri": "https://localhost:8080/",
          "height": 35
        }
      },
      "source": [
        "# verifying the object's class\n",
        "class(data)"
      ],
      "execution_count": 14,
      "outputs": [
        {
          "output_type": "display_data",
          "data": {
            "text/plain": [
              "[1] \"transactions\"\n",
              "attr(,\"package\")\n",
              "[1] \"arules\""
            ],
            "text/latex": "'transactions'",
            "text/markdown": "'transactions'",
            "text/html": [
              "'transactions'"
            ]
          },
          "metadata": {
            "tags": []
          }
        }
      ]
    },
    {
      "cell_type": "code",
      "metadata": {
        "id": "Ba4LeU5NLLrM",
        "outputId": "7fc9db58-7fa9-4898-cbac-a8f5eb273250",
        "colab": {
          "base_uri": "https://localhost:8080/"
        }
      },
      "source": [
        "# previewing the first five transactions\n",
        "inspect(data[1:5])"
      ],
      "execution_count": 15,
      "outputs": [
        {
          "output_type": "stream",
          "text": [
            "    items                              \n",
            "[1] {cheese,energy,                    \n",
            "     drink,tomato,                     \n",
            "     fat,                              \n",
            "     flour,yams,cottage,               \n",
            "     grapes,whole,                     \n",
            "     juice,frozen,                     \n",
            "     juice,low,                        \n",
            "     mix,green,                        \n",
            "     oil,                              \n",
            "     shrimp,almonds,avocado,vegetables,\n",
            "     smoothie,spinach,olive,           \n",
            "     tea,honey,salad,mineral,          \n",
            "     water,salmon,antioxydant,         \n",
            "     weat,                             \n",
            "     yogurt,green}                     \n",
            "[2] {burgers,meatballs,eggs}           \n",
            "[3] {chutney}                          \n",
            "[4] {turkey,avocado}                   \n",
            "[5] {bar,whole,                        \n",
            "     mineral,                          \n",
            "     rice,green,                       \n",
            "     tea,                              \n",
            "     water,milk,energy,                \n",
            "     wheat}                            \n"
          ],
          "name": "stdout"
        }
      ]
    },
    {
      "cell_type": "markdown",
      "metadata": {
        "id": "ARq30MxXNJvd"
      },
      "source": [
        "The first item has a wide range of items"
      ]
    },
    {
      "cell_type": "code",
      "metadata": {
        "id": "Edak8mr5LL6b",
        "outputId": "701a6969-3d71-4f0f-8274-06d346f3c5ae",
        "colab": {
          "base_uri": "https://localhost:8080/",
          "height": 104
        }
      },
      "source": [
        "# Exploring the frequency of some articles  \n",
        "# \n",
        "itemFrequency(data[, 1:10],type = \"absolute\")\n",
        "# percentage terms of total transactions\n",
        "round(itemFrequency(data[, 1:10],type = \"relative\")*100,2)"
      ],
      "execution_count": 34,
      "outputs": [
        {
          "output_type": "display_data",
          "data": {
            "text/plain": [
              "                                     &                            accessories \n",
              "                                   371                                     10 \n",
              "               accessories,antioxydant            accessories,champagne,fresh \n",
              "                                     1                                      1 \n",
              "         accessories,champagne,protein                  accessories,chocolate \n",
              "                                     1                                      1 \n",
              "accessories,chocolate,champagne,frozen           accessories,chocolate,frozen \n",
              "                                     1                                      1 \n",
              "             accessories,chocolate,low       accessories,chocolate,pasta,salt \n",
              "                                     1                                      1 "
            ],
            "text/latex": "\\begin{description*}\n\\item[\\textbackslash{}\\&] 371\n\\item[accessories] 10\n\\item[accessories,antioxydant] 1\n\\item[accessories,champagne,fresh] 1\n\\item[accessories,champagne,protein] 1\n\\item[accessories,chocolate] 1\n\\item[accessories,chocolate,champagne,frozen] 1\n\\item[accessories,chocolate,frozen] 1\n\\item[accessories,chocolate,low] 1\n\\item[accessories,chocolate,pasta,salt] 1\n\\end{description*}\n",
            "text/markdown": "&amp;amp;\n:   371accessories\n:   10accessories,antioxydant\n:   1accessories,champagne,fresh\n:   1accessories,champagne,protein\n:   1accessories,chocolate\n:   1accessories,chocolate,champagne,frozen\n:   1accessories,chocolate,frozen\n:   1accessories,chocolate,low\n:   1accessories,chocolate,pasta,salt\n:   1\n\n",
            "text/html": [
              "<style>\n",
              ".dl-inline {width: auto; margin:0; padding: 0}\n",
              ".dl-inline>dt, .dl-inline>dd {float: none; width: auto; display: inline-block}\n",
              ".dl-inline>dt::after {content: \":\\0020\"; padding-right: .5ex}\n",
              ".dl-inline>dt:not(:first-of-type) {padding-left: .5ex}\n",
              "</style><dl class=dl-inline><dt>&amp;</dt><dd>371</dd><dt>accessories</dt><dd>10</dd><dt>accessories,antioxydant</dt><dd>1</dd><dt>accessories,champagne,fresh</dt><dd>1</dd><dt>accessories,champagne,protein</dt><dd>1</dd><dt>accessories,chocolate</dt><dd>1</dd><dt>accessories,chocolate,champagne,frozen</dt><dd>1</dd><dt>accessories,chocolate,frozen</dt><dd>1</dd><dt>accessories,chocolate,low</dt><dd>1</dd><dt>accessories,chocolate,pasta,salt</dt><dd>1</dd></dl>\n"
            ]
          },
          "metadata": {
            "tags": []
          }
        },
        {
          "output_type": "display_data",
          "data": {
            "text/plain": [
              "                                     &                            accessories \n",
              "                                  4.95                                   0.13 \n",
              "               accessories,antioxydant            accessories,champagne,fresh \n",
              "                                  0.01                                   0.01 \n",
              "         accessories,champagne,protein                  accessories,chocolate \n",
              "                                  0.01                                   0.01 \n",
              "accessories,chocolate,champagne,frozen           accessories,chocolate,frozen \n",
              "                                  0.01                                   0.01 \n",
              "             accessories,chocolate,low       accessories,chocolate,pasta,salt \n",
              "                                  0.01                                   0.01 "
            ],
            "text/latex": "\\begin{description*}\n\\item[\\textbackslash{}\\&] 4.95\n\\item[accessories] 0.13\n\\item[accessories,antioxydant] 0.01\n\\item[accessories,champagne,fresh] 0.01\n\\item[accessories,champagne,protein] 0.01\n\\item[accessories,chocolate] 0.01\n\\item[accessories,chocolate,champagne,frozen] 0.01\n\\item[accessories,chocolate,frozen] 0.01\n\\item[accessories,chocolate,low] 0.01\n\\item[accessories,chocolate,pasta,salt] 0.01\n\\end{description*}\n",
            "text/markdown": "&amp;amp;\n:   4.95accessories\n:   0.13accessories,antioxydant\n:   0.01accessories,champagne,fresh\n:   0.01accessories,champagne,protein\n:   0.01accessories,chocolate\n:   0.01accessories,chocolate,champagne,frozen\n:   0.01accessories,chocolate,frozen\n:   0.01accessories,chocolate,low\n:   0.01accessories,chocolate,pasta,salt\n:   0.01\n\n",
            "text/html": [
              "<style>\n",
              ".dl-inline {width: auto; margin:0; padding: 0}\n",
              ".dl-inline>dt, .dl-inline>dd {float: none; width: auto; display: inline-block}\n",
              ".dl-inline>dt::after {content: \":\\0020\"; padding-right: .5ex}\n",
              ".dl-inline>dt:not(:first-of-type) {padding-left: .5ex}\n",
              "</style><dl class=dl-inline><dt>&amp;</dt><dd>4.95</dd><dt>accessories</dt><dd>0.13</dd><dt>accessories,antioxydant</dt><dd>0.01</dd><dt>accessories,champagne,fresh</dt><dd>0.01</dd><dt>accessories,champagne,protein</dt><dd>0.01</dd><dt>accessories,chocolate</dt><dd>0.01</dd><dt>accessories,chocolate,champagne,frozen</dt><dd>0.01</dd><dt>accessories,chocolate,frozen</dt><dd>0.01</dd><dt>accessories,chocolate,low</dt><dd>0.01</dd><dt>accessories,chocolate,pasta,salt</dt><dd>0.01</dd></dl>\n"
            ]
          },
          "metadata": {
            "tags": []
          }
        }
      ]
    },
    {
      "cell_type": "code",
      "metadata": {
        "id": "s-jmXJkGUJS9",
        "outputId": "0a1485a9-10fc-4a6a-c82a-1596bb4df640",
        "colab": {
          "base_uri": "https://localhost:8080/",
          "height": 437
        }
      },
      "source": [
        "# Producing a chart of frequencies and fitering top 20 items\n",
        "itemFrequencyPlot(data, topN = 20,col=\"darkgreen\")"
      ],
      "execution_count": 18,
      "outputs": [
        {
          "output_type": "display_data",
          "data": {
            "image/png": "[encoded data removed]",
            "text/plain": [
              "plot without title"
            ]
          },
          "metadata": {
            "tags": [],
            "image/png": {
              "width": 420,
              "height": 420
            }
          }
        }
      ]
    },
    {
      "cell_type": "code",
      "metadata": {
        "id": "1v0N1ljZVExa",
        "outputId": "46a90824-f8af-484d-bfb8-bcf366ed2b2e",
        "colab": {
          "base_uri": "https://localhost:8080/",
          "height": 437
        }
      },
      "source": [
        "# Producing a chart of frequencies and fitering \n",
        "# to consider only items with a minimum percentage \n",
        "# of support/ considering a top x of items\n",
        "# Displaying top 10 most common items in the transactions dataset \n",
        "# and the items whose relative importance is at least 10%\n",
        "# \n",
        "par(mfrow = c(1, 2))\n",
        "\n",
        "# plot the frequency of items\n",
        "itemFrequencyPlot(data, topN = 10,col=\"darkgreen\")"
      ],
      "execution_count": 35,
      "outputs": [
        {
          "output_type": "display_data",
          "data": {
            "image/png": "[encoded data removed]",
            "text/plain": [
              "plot without title"
            ]
          },
          "metadata": {
            "tags": [],
            "image/png": {
              "width": 420,
              "height": 420
            }
          }
        }
      ]
    },
    {
      "cell_type": "code",
      "metadata": {
        "id": "pzozZCmRVE_Z",
        "outputId": "1c90b2bf-03c0-4124-df3b-d6aa5afd3a0c",
        "colab": {
          "base_uri": "https://localhost:8080/",
          "height": 399
        }
      },
      "source": [
        "# Building a model based on association rules \n",
        "# using the apriori function \n",
        "# ---\n",
        "# We use Min Support as 0.07 and confidence as 0.7\n",
        "# ie 7% relative importance\n",
        "\n",
        "rules <- apriori (data, parameter = list(supp = 0.002, conf = 0.8))\n",
        "rules"
      ],
      "execution_count": 73,
      "outputs": [
        {
          "output_type": "stream",
          "text": [
            "Apriori\n",
            "\n",
            "Parameter specification:\n",
            " confidence minval smax arem  aval originalSupport maxtime support minlen\n",
            "        0.8    0.1    1 none FALSE            TRUE       5   0.002      1\n",
            " maxlen target  ext\n",
            "     10  rules TRUE\n",
            "\n",
            "Algorithmic control:\n",
            " filter tree heap memopt load sort verbose\n",
            "    0.1 TRUE TRUE  FALSE TRUE    2    TRUE\n",
            "\n",
            "Absolute minimum support count: 15 \n",
            "\n",
            "set item appearances ...[0 item(s)] done [0.00s].\n",
            "set transactions ...[5729 item(s), 7501 transaction(s)] done [0.01s].\n",
            "sorting and recoding items ... [189 item(s)] done [0.00s].\n",
            "creating transaction tree ... done [0.00s].\n",
            "checking subsets of size 1 2 3 4 done [0.00s].\n",
            "writing ... [99 rule(s)] done [0.00s].\n",
            "creating S4 object  ... done [0.00s].\n"
          ],
          "name": "stdout"
        },
        {
          "output_type": "display_data",
          "data": {
            "text/plain": [
              "set of 99 rules "
            ]
          },
          "metadata": {
            "tags": []
          }
        }
      ]
    },
    {
      "cell_type": "code",
      "metadata": {
        "id": "PCu-OVjCaIDD",
        "outputId": "b1cdf63d-e34f-4261-ed7a-0ea712676c7d",
        "colab": {
          "base_uri": "https://localhost:8080/",
          "height": 503
        }
      },
      "source": [
        "# Getting the size of rules,rule length distribution and more statistical information such as support, lift and confidence \n",
        "# coverage and count\n",
        "summary(rules)"
      ],
      "execution_count": 74,
      "outputs": [
        {
          "output_type": "display_data",
          "data": {
            "text/plain": [
              "set of 99 rules\n",
              "\n",
              "rule length distribution (lhs + rhs):sizes\n",
              " 2  3  4 \n",
              "49 47  3 \n",
              "\n",
              "   Min. 1st Qu.  Median    Mean 3rd Qu.    Max. \n",
              "  2.000   2.000   3.000   2.535   3.000   4.000 \n",
              "\n",
              "summary of quality measures:\n",
              "    support           confidence        coverage             lift        \n",
              " Min.   :0.002133   Min.   :0.8125   Min.   :0.002133   Min.   :  7.611  \n",
              " 1st Qu.:0.002533   1st Qu.:0.9394   1st Qu.:0.002600   1st Qu.: 11.629  \n",
              " Median :0.003333   Median :1.0000   Median :0.003466   Median : 13.068  \n",
              " Mean   :0.005498   Mean   :0.9601   Mean   :0.005785   Mean   : 19.486  \n",
              " 3rd Qu.:0.004666   3rd Qu.:1.0000   3rd Qu.:0.004866   3rd Qu.: 19.044  \n",
              " Max.   :0.068391   Max.   :1.0000   Max.   :0.076523   Max.   :197.395  \n",
              "     count       \n",
              " Min.   : 16.00  \n",
              " 1st Qu.: 19.00  \n",
              " Median : 25.00  \n",
              " Mean   : 41.24  \n",
              " 3rd Qu.: 35.00  \n",
              " Max.   :513.00  \n",
              "\n",
              "mining info:\n",
              " data ntransactions support confidence\n",
              " data          7501   0.002        0.8"
            ]
          },
          "metadata": {
            "tags": []
          }
        }
      ]
    },
    {
      "cell_type": "code",
      "metadata": {
        "id": "V3lNoc6ynt-p",
        "outputId": "3c9f6c5b-581d-46a5-fdcb-e049c19bf1eb",
        "colab": {
          "base_uri": "https://localhost:8080/"
        }
      },
      "source": [
        "inspect(rules[1:5])\n"
      ],
      "execution_count": 75,
      "outputs": [
        {
          "output_type": "stream",
          "text": [
            "    lhs                 rhs     support     confidence coverage    lift     \n",
            "[1] {candy}          => {bars}  0.003066258 0.9200000  0.003332889 100.01333\n",
            "[2] {eggs,whole}     => {wheat} 0.002266364 0.9444444  0.002399680  10.98338\n",
            "[3] {mayo,green}     => {tea}   0.002133049 1.0000000  0.002133049   9.34122\n",
            "[4] {smoothie,green} => {tea}   0.002133049 1.0000000  0.002133049   9.34122\n",
            "[5] {drink,green}    => {tea}   0.002133049 1.0000000  0.002133049   9.34122\n",
            "    count\n",
            "[1] 23   \n",
            "[2] 17   \n",
            "[3] 16   \n",
            "[4] 16   \n",
            "[5] 16   \n"
          ],
          "name": "stdout"
        }
      ]
    },
    {
      "cell_type": "code",
      "metadata": {
        "id": "GW77fLZDRDmf",
        "outputId": "3434d32c-b98b-433a-f539-d9ab900c34a1",
        "colab": {
          "base_uri": "https://localhost:8080/",
          "height": 1000
        }
      },
      "source": [
        "# \n",
        "rules<-sort(rules, by=\"confidence\", decreasing=TRUE)\n",
        "\n",
        "rules\n",
        "inspect(rules)"
      ],
      "execution_count": 76,
      "outputs": [
        {
          "output_type": "display_data",
          "data": {
            "text/plain": [
              "set of 99 rules "
            ]
          },
          "metadata": {
            "tags": []
          }
        },
        {
          "output_type": "stream",
          "text": [
            "     lhs                           rhs            support     confidence\n",
            "[1]  {mayo,green}               => {tea}          0.002133049 1.0000000 \n",
            "[2]  {smoothie,green}           => {tea}          0.002133049 1.0000000 \n",
            "[3]  {drink,green}              => {tea}          0.002133049 1.0000000 \n",
            "[4]  {oil,low}                  => {fat}          0.002799627 1.0000000 \n",
            "[5]  {pepper,whole}             => {wheat}        0.002399680 1.0000000 \n",
            "[6]  {burgers,herb}             => {&}            0.002399680 1.0000000 \n",
            "[7]  {pepper,red}               => {&}            0.002399680 1.0000000 \n",
            "[8]  {turkey,herb}              => {&}            0.003199573 1.0000000 \n",
            "[9]  {smoothie,low}             => {fat}          0.003066258 1.0000000 \n",
            "[10] {low}                      => {fat}          0.006132516 1.0000000 \n",
            "[11] {flour,french}             => {weat}         0.002133049 1.0000000 \n",
            "[12] {pasta,spaghetti,mineral}  => {wheat}        0.002666311 1.0000000 \n",
            "[13] {pasta,mineral}            => {wheat}        0.003599520 1.0000000 \n",
            "[14] {cheese,whole}             => {wheat}        0.003866151 1.0000000 \n",
            "[15] {fries,low}                => {fat}          0.004399413 1.0000000 \n",
            "[16] {juice,low}                => {fat}          0.003599520 1.0000000 \n",
            "[17] {fries,green}              => {tea}          0.006799093 1.0000000 \n",
            "[18] {rice,cooking}             => {wheat}        0.004266098 1.0000000 \n",
            "[19] {bread,low}                => {fat}          0.004266098 1.0000000 \n",
            "[20] {water,whole}              => {wheat}        0.005599253 1.0000000 \n",
            "[21] {yogurt,green}             => {fat}          0.005065991 1.0000000 \n",
            "[22] {pasta,ground}             => {wheat}        0.004532729 1.0000000 \n",
            "[23] {vegetables,whole}         => {wheat}        0.004932676 1.0000000 \n",
            "[24] {cheese,herb}              => {&}            0.006532462 1.0000000 \n",
            "[25] {pepper,ground}            => {&}            0.009065458 1.0000000 \n",
            "[26] {herb}                     => {&}            0.030929209 1.0000000 \n",
            "[27] {herb,pepper}              => {&}            0.002799627 1.0000000 \n",
            "[28] {oil,low,yogurt}           => {fat}          0.002399680 1.0000000 \n",
            "[29] {&,pepper,whole}           => {wheat}        0.002266364 1.0000000 \n",
            "[30] {smoothie,low,yogurt}      => {fat}          0.002532996 1.0000000 \n",
            "[31] {low,yogurt}               => {fat}          0.005999200 1.0000000 \n",
            "[32] {fries,low,yogurt}         => {fat}          0.003599520 1.0000000 \n",
            "[33] {juice,low,yogurt}         => {fat}          0.002532996 1.0000000 \n",
            "[34] {bread,low,yogurt}         => {fat}          0.003732836 1.0000000 \n",
            "[35] {herb,pepper,mineral}      => {&}            0.002133049 1.0000000 \n",
            "[36] {herb,pepper,frozen}       => {&}            0.002266364 1.0000000 \n",
            "[37] {mineral,water,whole}      => {wheat}        0.002799627 1.0000000 \n",
            "[38] {tea,yogurt,green}         => {fat}          0.004666045 1.0000000 \n",
            "[39] {fat,tea}                  => {yogurt,green} 0.004666045 1.0000000 \n",
            "[40] {frozen,vegetables,whole}  => {wheat}        0.002532996 1.0000000 \n",
            "[41] {cheese,herb,grated}       => {&}            0.004666045 1.0000000 \n",
            "[42] {&,grated}                 => {cheese,herb}  0.004666045 1.0000000 \n",
            "[43] {rice,whole}               => {wheat}        0.002399680 1.0000000 \n",
            "[44] {herb,pepper,ground}       => {&}            0.005865885 1.0000000 \n",
            "[45] {vegetables,ground,yogurt} => {fat}          0.002133049 1.0000000 \n",
            "[46] {fat,vegetables,ground}    => {yogurt}       0.002133049 1.0000000 \n",
            "[47] {tea,whole}                => {wheat}        0.002666311 1.0000000 \n",
            "[48] {beef,mineral,yogurt}      => {fat}          0.002133049 1.0000000 \n",
            "[49] {herb,yogurt}              => {&}            0.002799627 1.0000000 \n",
            "[50] {fat,herb}                 => {&}            0.003332889 1.0000000 \n",
            "[51] {herb,tea}                 => {&}            0.002399680 1.0000000 \n",
            "[52] {herb,wheat}               => {&}            0.003466205 1.0000000 \n",
            "[53] {herb,yogurt}              => {fat}          0.002799627 1.0000000 \n",
            "[54] {grated,yogurt}            => {fat}          0.003466205 1.0000000 \n",
            "[55] {frozen,yogurt}            => {fat}          0.004799360 1.0000000 \n",
            "[56] {mineral,yogurt}           => {fat}          0.007732302 1.0000000 \n",
            "[57] {&,yogurt}                 => {fat}          0.005199307 1.0000000 \n",
            "[58] {wheat,yogurt}             => {fat}          0.006932409 1.0000000 \n",
            "[59] {&,herb,yogurt}            => {fat}          0.002799627 1.0000000 \n",
            "[60] {fat,herb,yogurt}          => {&}            0.002799627 1.0000000 \n",
            "[61] {low}                      => {yogurt}       0.005999200 0.9782609 \n",
            "[62] {fat,low}                  => {yogurt}       0.005999200 0.9782609 \n",
            "[63] {fat,mineral}              => {yogurt}       0.007732302 0.9666667 \n",
            "[64] {rice}                     => {wheat}        0.012265031 0.9583333 \n",
            "[65] {whole}                    => {wheat}        0.018930809 0.9466667 \n",
            "[66] {yogurt}                   => {fat}          0.068390881 0.9447514 \n",
            "[67] {eggs,whole}               => {wheat}        0.002266364 0.9444444 \n",
            "[68] {pepper,whole}             => {&}            0.002266364 0.9444444 \n",
            "[69] {pepper,whole,wheat}       => {&}            0.002266364 0.9444444 \n",
            "[70] {cake,green}               => {tea}          0.002133049 0.9411765 \n",
            "[71] {dogs,green}               => {tea}          0.002133049 0.9411765 \n",
            "[72] {beef,mineral,fat}         => {yogurt}       0.002133049 0.9411765 \n",
            "[73] {rice,french}              => {wheat}        0.004132782 0.9393939 \n",
            "[74] {bread,green}              => {tea}          0.004132782 0.9393939 \n",
            "[75] {pepper,frozen}            => {&}            0.004132782 0.9393939 \n",
            "[76] {fat,grated}               => {yogurt}       0.003466205 0.9285714 \n",
            "[77] {yogurt,green}             => {tea}          0.004666045 0.9210526 \n",
            "[78] {fat,yogurt,green}         => {tea}          0.004666045 0.9210526 \n",
            "[79] {candy}                    => {bars}         0.003066258 0.9200000 \n",
            "[80] {fries,energy}             => {drink}        0.002666311 0.9090909 \n",
            "[81] {cheese,green}             => {tea}          0.002666311 0.9090909 \n",
            "[82] {fat}                      => {yogurt}       0.068390881 0.8937282 \n",
            "[83] {&,fat}                    => {yogurt}       0.005199307 0.8863636 \n",
            "[84] {fat,frozen}               => {yogurt}       0.004799360 0.8780488 \n",
            "[85] {bread,low}                => {yogurt}       0.003732836 0.8750000 \n",
            "[86] {&,pepper}                 => {herb}         0.002799627 0.8750000 \n",
            "[87] {bread,low,fat}            => {yogurt}       0.003732836 0.8750000 \n",
            "[88] {tuna,mineral}             => {fresh}        0.002666311 0.8695652 \n",
            "[89] {oil,low}                  => {yogurt}       0.002399680 0.8571429 \n",
            "[90] {fat,oil,low}              => {yogurt}       0.002399680 0.8571429 \n",
            "[91] {fat,herb}                 => {yogurt}       0.002799627 0.8400000 \n",
            "[92] {&,fat,herb}               => {yogurt}       0.002799627 0.8400000 \n",
            "[93] {pepper}                   => {&}            0.003199573 0.8275862 \n",
            "[94] {smoothie,low}             => {yogurt}       0.002532996 0.8260870 \n",
            "[95] {fat,smoothie,low}         => {yogurt}       0.002532996 0.8260870 \n",
            "[96] {fries,low}                => {yogurt}       0.003599520 0.8181818 \n",
            "[97] {fat,fries,low}            => {yogurt}       0.003599520 0.8181818 \n",
            "[98] {juice,green}              => {tea}          0.002932942 0.8148148 \n",
            "[99] {fat,wheat}                => {yogurt}       0.006932409 0.8125000 \n",
            "     coverage    lift       count\n",
            "[1]  0.002133049   9.341220  16  \n",
            "[2]  0.002133049   9.341220  16  \n",
            "[3]  0.002133049   9.341220  16  \n",
            "[4]  0.002799627  13.067944  21  \n",
            "[5]  0.002399680  11.629457  18  \n",
            "[6]  0.002399680  20.218329  18  \n",
            "[7]  0.002399680  20.218329  18  \n",
            "[8]  0.003199573  20.218329  24  \n",
            "[9]  0.003066258  13.067944  23  \n",
            "[10] 0.006132516  13.067944  46  \n",
            "[11] 0.002133049 107.157143  16  \n",
            "[12] 0.002666311  11.629457  20  \n",
            "[13] 0.003599520  11.629457  27  \n",
            "[14] 0.003866151  11.629457  29  \n",
            "[15] 0.004399413  13.067944  33  \n",
            "[16] 0.003599520  13.067944  27  \n",
            "[17] 0.006799093   9.341220  51  \n",
            "[18] 0.004266098  11.629457  32  \n",
            "[19] 0.004266098  13.067944  32  \n",
            "[20] 0.005599253  11.629457  42  \n",
            "[21] 0.005065991  13.067944  38  \n",
            "[22] 0.004532729  11.629457  34  \n",
            "[23] 0.004932676  11.629457  37  \n",
            "[24] 0.006532462  20.218329  49  \n",
            "[25] 0.009065458  20.218329  68  \n",
            "[26] 0.030929209  20.218329 232  \n",
            "[27] 0.002799627  20.218329  21  \n",
            "[28] 0.002399680  13.067944  18  \n",
            "[29] 0.002266364  11.629457  17  \n",
            "[30] 0.002532996  13.067944  19  \n",
            "[31] 0.005999200  13.067944  45  \n",
            "[32] 0.003599520  13.067944  27  \n",
            "[33] 0.002532996  13.067944  19  \n",
            "[34] 0.003732836  13.067944  28  \n",
            "[35] 0.002133049  20.218329  16  \n",
            "[36] 0.002266364  20.218329  17  \n",
            "[37] 0.002799627  11.629457  21  \n",
            "[38] 0.004666045  13.067944  35  \n",
            "[39] 0.004666045 197.394737  35  \n",
            "[40] 0.002532996  11.629457  19  \n",
            "[41] 0.004666045  20.218329  35  \n",
            "[42] 0.004666045 153.081633  35  \n",
            "[43] 0.002399680  11.629457  18  \n",
            "[44] 0.005865885  20.218329  44  \n",
            "[45] 0.002133049  13.067944  16  \n",
            "[46] 0.002133049  13.813996  16  \n",
            "[47] 0.002666311  11.629457  20  \n",
            "[48] 0.002133049  13.067944  16  \n",
            "[49] 0.002799627  20.218329  21  \n",
            "[50] 0.003332889  20.218329  25  \n",
            "[51] 0.002399680  20.218329  18  \n",
            "[52] 0.003466205  20.218329  26  \n",
            "[53] 0.002799627  13.067944  21  \n",
            "[54] 0.003466205  13.067944  26  \n",
            "[55] 0.004799360  13.067944  36  \n",
            "[56] 0.007732302  13.067944  58  \n",
            "[57] 0.005199307  13.067944  39  \n",
            "[58] 0.006932409  13.067944  52  \n",
            "[59] 0.002799627  13.067944  21  \n",
            "[60] 0.002799627  20.218329  21  \n",
            "[61] 0.006132516  13.513692  45  \n",
            "[62] 0.006132516  13.513692  45  \n",
            "[63] 0.007998933  13.353530  58  \n",
            "[64] 0.012798294  11.144897  92  \n",
            "[65] 0.019997334  11.009220 142  \n",
            "[66] 0.072390348  12.345958 513  \n",
            "[67] 0.002399680  10.983376  17  \n",
            "[68] 0.002399680  19.095088  17  \n",
            "[69] 0.002399680  19.095088  17  \n",
            "[70] 0.002266364   8.791737  16  \n",
            "[71] 0.002266364   8.791737  16  \n",
            "[72] 0.002266364  13.001408  16  \n",
            "[73] 0.004399413  10.924642  31  \n",
            "[74] 0.004399413   8.775086  31  \n",
            "[75] 0.004399413  18.992976  31  \n",
            "[76] 0.003732836  12.827282  26  \n",
            "[77] 0.005065991   8.603756  35  \n",
            "[78] 0.005065991   8.603756  35  \n",
            "[79] 0.003332889 100.013333  23  \n",
            "[80] 0.002932942  50.511785  20  \n",
            "[81] 0.002932942   8.492019  20  \n",
            "[82] 0.076523130  12.345958 513  \n",
            "[83] 0.005865885  12.244224  39  \n",
            "[84] 0.005465938  12.129363  36  \n",
            "[85] 0.004266098  12.087247  28  \n",
            "[86] 0.003199573  28.290409  21  \n",
            "[87] 0.004266098  12.087247  28  \n",
            "[88] 0.003066258  45.612648  20  \n",
            "[89] 0.002799627  11.840568  18  \n",
            "[90] 0.002799627  11.840568  18  \n",
            "[91] 0.003332889  11.603757  21  \n",
            "[92] 0.003332889  11.603757  21  \n",
            "[93] 0.003866151  16.732410  24  \n",
            "[94] 0.003066258  11.411562  19  \n",
            "[95] 0.003066258  11.411562  19  \n",
            "[96] 0.004399413  11.302361  27  \n",
            "[97] 0.004399413  11.302361  27  \n",
            "[98] 0.003599520   7.611365  22  \n",
            "[99] 0.008532196  11.223872  52  \n"
          ],
          "name": "stdout"
        }
      ]
    },
    {
      "cell_type": "code",
      "metadata": {
        "id": "FmNELWXFon5t",
        "outputId": "8bb019c4-c8bb-4245-a244-ee132526cbee",
        "colab": {
          "base_uri": "https://localhost:8080/"
        }
      },
      "source": [
        "# Observing first 10 model rules in descending order of confidence level by sorting rules in descending order\n",
        "rules<-sort(rules, by=\"confidence\", decreasing=TRUE)\n",
        "inspect(rules[1:10])"
      ],
      "execution_count": 77,
      "outputs": [
        {
          "output_type": "stream",
          "text": [
            "     lhs                 rhs     support     confidence coverage    lift    \n",
            "[1]  {mayo,green}     => {tea}   0.002133049 1          0.002133049  9.34122\n",
            "[2]  {smoothie,green} => {tea}   0.002133049 1          0.002133049  9.34122\n",
            "[3]  {drink,green}    => {tea}   0.002133049 1          0.002133049  9.34122\n",
            "[4]  {oil,low}        => {fat}   0.002799627 1          0.002799627 13.06794\n",
            "[5]  {pepper,whole}   => {wheat} 0.002399680 1          0.002399680 11.62946\n",
            "[6]  {burgers,herb}   => {&}     0.002399680 1          0.002399680 20.21833\n",
            "[7]  {pepper,red}     => {&}     0.002399680 1          0.002399680 20.21833\n",
            "[8]  {turkey,herb}    => {&}     0.003199573 1          0.003199573 20.21833\n",
            "[9]  {smoothie,low}   => {fat}   0.003066258 1          0.003066258 13.06794\n",
            "[10] {low}            => {fat}   0.006132516 1          0.006132516 13.06794\n",
            "     count\n",
            "[1]  16   \n",
            "[2]  16   \n",
            "[3]  16   \n",
            "[4]  21   \n",
            "[5]  18   \n",
            "[6]  18   \n",
            "[7]  18   \n",
            "[8]  24   \n",
            "[9]  23   \n",
            "[10] 46   \n"
          ],
          "name": "stdout"
        }
      ]
    }
  ]
}